{
 "cells": [
  {
   "cell_type": "code",
   "execution_count": 1,
   "metadata": {},
   "outputs": [],
   "source": [
    "import pandas as pd\n",
    "import numpy as np"
   ]
  },
  {
   "cell_type": "code",
   "execution_count": 2,
   "metadata": {},
   "outputs": [],
   "source": [
    "file = open('anonymized-curriculum-access.txt').readlines()"
   ]
  },
  {
   "cell_type": "code",
   "execution_count": 3,
   "metadata": {},
   "outputs": [],
   "source": [
    "## Remove Newline chars\n",
    "for index,line in enumerate(file):\n",
    "    file[index] = line.replace('\\n','')"
   ]
  },
  {
   "cell_type": "code",
   "execution_count": 4,
   "metadata": {},
   "outputs": [
    {
     "data": {
      "text/plain": [
       "6"
      ]
     },
     "execution_count": 4,
     "metadata": {},
     "output_type": "execute_result"
    }
   ],
   "source": [
    "## Check length of first Entery\n",
    "len(file[0].split())"
   ]
  },
  {
   "cell_type": "code",
   "execution_count": 5,
   "metadata": {},
   "outputs": [],
   "source": [
    "## find which entries don't have the same length as first entry\n",
    "non_standard_size = []\n",
    "for index, line in enumerate(file):\n",
    "    if len(line.split()) != 6:\n",
    "        non_standard_size.append(f'index {index} is {len(line.split())} long')\n",
    "                                 "
   ]
  },
  {
   "cell_type": "code",
   "execution_count": 6,
   "metadata": {},
   "outputs": [
    {
     "name": "stdout",
     "output_type": "stream",
     "text": [
      "['index 411 is 5 long', 'index 412 is 5 long', 'index 425 is 5 long', 'index 435 is 5 long', 'index 436 is 5 long', 'index 437 is 5 long', 'index 438 is 5 long', 'index 439 is 5 long', 'index 440 is 5 long', 'index 441 is 5 long', 'index 442 is 5 long', 'index 443 is 5 long', 'index 444 is 5 long', 'index 445 is 5 long', 'index 446 is 5 long']\n"
     ]
    }
   ],
   "source": [
    "print(non_standard_size[:15])"
   ]
  },
  {
   "cell_type": "markdown",
   "metadata": {},
   "source": [
    "\n",
    "Check what a len5 entry looks like vs a len6 entry"
   ]
  },
  {
   "cell_type": "code",
   "execution_count": 7,
   "metadata": {},
   "outputs": [
    {
     "data": {
      "text/plain": [
       "'2018-01-26 16:46:16 / 48  97.105.19.61'"
      ]
     },
     "execution_count": 7,
     "metadata": {},
     "output_type": "execute_result"
    }
   ],
   "source": [
    "file[411]"
   ]
  },
  {
   "cell_type": "code",
   "execution_count": 8,
   "metadata": {},
   "outputs": [
    {
     "data": {
      "text/plain": [
       "'2018-01-26 09:55:03 / 1 8 97.105.19.61'"
      ]
     },
     "execution_count": 8,
     "metadata": {},
     "output_type": "execute_result"
    }
   ],
   "source": [
    "file[0]"
   ]
  },
  {
   "cell_type": "markdown",
   "metadata": {},
   "source": [
    "Looks like len5 and len6 differ by 1 type of ID, so let's split then into two pieces "
   ]
  },
  {
   "cell_type": "code",
   "execution_count": 9,
   "metadata": {},
   "outputs": [],
   "source": [
    "logs= []\n",
    "for index,line in enumerate(file):\n",
    "    if len(line.split()) == 6:\n",
    "        ## This mean it has all 6 fields and thus is student\n",
    "        x = line.split()\n",
    "        logs.append({'date_time': x[0]+' ' +x[1],'dir':x[2],'id':x[3],'cohort':x[4],'ip':x[5]})\n",
    "    elif len(line.split()) == 5:\n",
    "        x = line.split()\n",
    "        logs.append({'date_time': x[0]+' ' +x[1],'dir':x[2],'id':x[3],'ip':x[4]})"
   ]
  },
  {
   "cell_type": "code",
   "execution_count": 10,
   "metadata": {},
   "outputs": [
    {
     "name": "stdout",
     "output_type": "stream",
     "text": [
      "formatted for dataframe logs length:233528 how many lines did we start with:233528 \n"
     ]
    }
   ],
   "source": [
    "print(f'formatted for dataframe logs length:{len(logs)} how many lines did we start with:{len(file)} ')"
   ]
  },
  {
   "cell_type": "markdown",
   "metadata": {},
   "source": [
    "Both numbers are the same so we didn't lose any Lines, which means our two if statements covered all possibilities"
   ]
  },
  {
   "cell_type": "code",
   "execution_count": 41,
   "metadata": {},
   "outputs": [],
   "source": [
    "df = pd.DataFrame(logs)\n",
    "df.set_index('date_time',inplace=True)\n",
    "df.index = pd.to_datetime(df.index)"
   ]
  },
  {
   "cell_type": "code",
   "execution_count": 42,
   "metadata": {},
   "outputs": [
    {
     "data": {
      "text/plain": [
       "24     34485\n",
       "22     28268\n",
       "23     26655\n",
       "25     24681\n",
       "26     24088\n",
       "29     20471\n",
       "27     19255\n",
       "NaN    14322\n",
       "1       8821\n",
       "14      6523\n",
       "21      6465\n",
       "28      6163\n",
       "31      2997\n",
       "13      2163\n",
       "17      1805\n",
       "8       1671\n",
       "18      1482\n",
       "19       901\n",
       "16       740\n",
       "15       632\n",
       "7        338\n",
       "12       230\n",
       "nan      136\n",
       "2         89\n",
       "11        79\n",
       "6         59\n",
       "9          5\n",
       "4          4\n",
       "Name: cohort, dtype: int64"
      ]
     },
     "execution_count": 42,
     "metadata": {},
     "output_type": "execute_result"
    }
   ],
   "source": [
    "df.cohort.value_counts(dropna=False)"
   ]
  },
  {
   "cell_type": "markdown",
   "metadata": {},
   "source": [
    "So we have some as NaN and some as nan. Let's switch those values that are nan to NaN"
   ]
  },
  {
   "cell_type": "code",
   "execution_count": 43,
   "metadata": {},
   "outputs": [],
   "source": [
    "df['cohort'].replace('nan',np.nan,inplace=True)"
   ]
  },
  {
   "cell_type": "code",
   "execution_count": 44,
   "metadata": {},
   "outputs": [],
   "source": [
    "students = df[df['cohort'].notnull()]\n",
    "staff = df[df['cohort'].isnull()]"
   ]
  },
  {
   "cell_type": "code",
   "execution_count": 45,
   "metadata": {},
   "outputs": [],
   "source": [
    "cohort_22 = students[students['cohort']=='22'].drop(columns='cohort')"
   ]
  },
  {
   "cell_type": "code",
   "execution_count": 56,
   "metadata": {},
   "outputs": [],
   "source": [
    "cohort_22['day_of_week'] = cohort_22.index.weekday"
   ]
  },
  {
   "cell_type": "code",
   "execution_count": 60,
   "metadata": {},
   "outputs": [],
   "source": [
    "cohort_22['weekend'] = cohort_22['day_of_week'] > 4"
   ]
  },
  {
   "cell_type": "markdown",
   "metadata": {},
   "source": [
    "These are the Value counts of the IP addresses for Cohort 22 given that it's not a weekend"
   ]
  },
  {
   "cell_type": "code",
   "execution_count": 82,
   "metadata": {},
   "outputs": [],
   "source": [
    "c22_ip_given_weekday = pd.DataFrame(cohort_22[cohort_22['weekend'] == False].ip.value_counts())"
   ]
  },
  {
   "cell_type": "code",
   "execution_count": 98,
   "metadata": {},
   "outputs": [],
   "source": [
    "c22_ip_given_weekday['%chance of IP'] = (c22_ip_given_weekday['ip']/c22_ip_given_weekday.ip.sum())*100"
   ]
  },
  {
   "cell_type": "code",
   "execution_count": 119,
   "metadata": {},
   "outputs": [],
   "source": [
    "c22_ip_given_weekday['outlier'] = c22_ip_given_weekday['%chance of IP'] < 0.01"
   ]
  },
  {
   "cell_type": "code",
   "execution_count": 121,
   "metadata": {},
   "outputs": [
    {
     "data": {
      "text/html": [
       "<div>\n",
       "<style scoped>\n",
       "    .dataframe tbody tr th:only-of-type {\n",
       "        vertical-align: middle;\n",
       "    }\n",
       "\n",
       "    .dataframe tbody tr th {\n",
       "        vertical-align: top;\n",
       "    }\n",
       "\n",
       "    .dataframe thead th {\n",
       "        text-align: right;\n",
       "    }\n",
       "</style>\n",
       "<table border=\"1\" class=\"dataframe\">\n",
       "  <thead>\n",
       "    <tr style=\"text-align: right;\">\n",
       "      <th></th>\n",
       "      <th>ip</th>\n",
       "      <th>%chance of IP</th>\n",
       "      <th>outlier</th>\n",
       "    </tr>\n",
       "  </thead>\n",
       "  <tbody>\n",
       "    <tr>\n",
       "      <th>99.203.26.185</th>\n",
       "      <td>2</td>\n",
       "      <td>0.007913</td>\n",
       "      <td>True</td>\n",
       "    </tr>\n",
       "    <tr>\n",
       "      <th>90.85.119.75</th>\n",
       "      <td>2</td>\n",
       "      <td>0.007913</td>\n",
       "      <td>True</td>\n",
       "    </tr>\n",
       "    <tr>\n",
       "      <th>166.251.112.88</th>\n",
       "      <td>2</td>\n",
       "      <td>0.007913</td>\n",
       "      <td>True</td>\n",
       "    </tr>\n",
       "    <tr>\n",
       "      <th>107.77.80.82</th>\n",
       "      <td>2</td>\n",
       "      <td>0.007913</td>\n",
       "      <td>True</td>\n",
       "    </tr>\n",
       "    <tr>\n",
       "      <th>98.6.222.42</th>\n",
       "      <td>2</td>\n",
       "      <td>0.007913</td>\n",
       "      <td>True</td>\n",
       "    </tr>\n",
       "    <tr>\n",
       "      <th>107.77.80.57</th>\n",
       "      <td>2</td>\n",
       "      <td>0.007913</td>\n",
       "      <td>True</td>\n",
       "    </tr>\n",
       "    <tr>\n",
       "      <th>107.77.100.45</th>\n",
       "      <td>2</td>\n",
       "      <td>0.007913</td>\n",
       "      <td>True</td>\n",
       "    </tr>\n",
       "    <tr>\n",
       "      <th>107.77.72.112</th>\n",
       "      <td>2</td>\n",
       "      <td>0.007913</td>\n",
       "      <td>True</td>\n",
       "    </tr>\n",
       "    <tr>\n",
       "      <th>99.203.26.200</th>\n",
       "      <td>2</td>\n",
       "      <td>0.007913</td>\n",
       "      <td>True</td>\n",
       "    </tr>\n",
       "    <tr>\n",
       "      <th>107.77.66.96</th>\n",
       "      <td>2</td>\n",
       "      <td>0.007913</td>\n",
       "      <td>True</td>\n",
       "    </tr>\n",
       "    <tr>\n",
       "      <th>192.171.117.234</th>\n",
       "      <td>2</td>\n",
       "      <td>0.007913</td>\n",
       "      <td>True</td>\n",
       "    </tr>\n",
       "    <tr>\n",
       "      <th>104.129.196.183</th>\n",
       "      <td>2</td>\n",
       "      <td>0.007913</td>\n",
       "      <td>True</td>\n",
       "    </tr>\n",
       "    <tr>\n",
       "      <th>99.203.155.147</th>\n",
       "      <td>2</td>\n",
       "      <td>0.007913</td>\n",
       "      <td>True</td>\n",
       "    </tr>\n",
       "    <tr>\n",
       "      <th>174.207.13.44</th>\n",
       "      <td>2</td>\n",
       "      <td>0.007913</td>\n",
       "      <td>True</td>\n",
       "    </tr>\n",
       "    <tr>\n",
       "      <th>76.218.41.171</th>\n",
       "      <td>2</td>\n",
       "      <td>0.007913</td>\n",
       "      <td>True</td>\n",
       "    </tr>\n",
       "    <tr>\n",
       "      <th>209.205.122.182</th>\n",
       "      <td>2</td>\n",
       "      <td>0.007913</td>\n",
       "      <td>True</td>\n",
       "    </tr>\n",
       "    <tr>\n",
       "      <th>174.207.0.15</th>\n",
       "      <td>2</td>\n",
       "      <td>0.007913</td>\n",
       "      <td>True</td>\n",
       "    </tr>\n",
       "    <tr>\n",
       "      <th>107.77.66.47</th>\n",
       "      <td>1</td>\n",
       "      <td>0.003956</td>\n",
       "      <td>True</td>\n",
       "    </tr>\n",
       "    <tr>\n",
       "      <th>107.77.64.51</th>\n",
       "      <td>1</td>\n",
       "      <td>0.003956</td>\n",
       "      <td>True</td>\n",
       "    </tr>\n",
       "    <tr>\n",
       "      <th>172.58.111.172</th>\n",
       "      <td>1</td>\n",
       "      <td>0.003956</td>\n",
       "      <td>True</td>\n",
       "    </tr>\n",
       "    <tr>\n",
       "      <th>64.132.225.203</th>\n",
       "      <td>1</td>\n",
       "      <td>0.003956</td>\n",
       "      <td>True</td>\n",
       "    </tr>\n",
       "    <tr>\n",
       "      <th>107.77.64.80</th>\n",
       "      <td>1</td>\n",
       "      <td>0.003956</td>\n",
       "      <td>True</td>\n",
       "    </tr>\n",
       "    <tr>\n",
       "      <th>107.77.100.91</th>\n",
       "      <td>1</td>\n",
       "      <td>0.003956</td>\n",
       "      <td>True</td>\n",
       "    </tr>\n",
       "    <tr>\n",
       "      <th>174.207.0.177</th>\n",
       "      <td>1</td>\n",
       "      <td>0.003956</td>\n",
       "      <td>True</td>\n",
       "    </tr>\n",
       "    <tr>\n",
       "      <th>99.203.154.83</th>\n",
       "      <td>1</td>\n",
       "      <td>0.003956</td>\n",
       "      <td>True</td>\n",
       "    </tr>\n",
       "    <tr>\n",
       "      <th>97.77.127.220</th>\n",
       "      <td>1</td>\n",
       "      <td>0.003956</td>\n",
       "      <td>True</td>\n",
       "    </tr>\n",
       "    <tr>\n",
       "      <th>99.203.154.93</th>\n",
       "      <td>1</td>\n",
       "      <td>0.003956</td>\n",
       "      <td>True</td>\n",
       "    </tr>\n",
       "    <tr>\n",
       "      <th>96.27.161.213</th>\n",
       "      <td>1</td>\n",
       "      <td>0.003956</td>\n",
       "      <td>True</td>\n",
       "    </tr>\n",
       "    <tr>\n",
       "      <th>196.52.2.70</th>\n",
       "      <td>1</td>\n",
       "      <td>0.003956</td>\n",
       "      <td>True</td>\n",
       "    </tr>\n",
       "    <tr>\n",
       "      <th>189.146.46.149</th>\n",
       "      <td>1</td>\n",
       "      <td>0.003956</td>\n",
       "      <td>True</td>\n",
       "    </tr>\n",
       "    <tr>\n",
       "      <th>209.205.122.186</th>\n",
       "      <td>1</td>\n",
       "      <td>0.003956</td>\n",
       "      <td>True</td>\n",
       "    </tr>\n",
       "    <tr>\n",
       "      <th>107.77.72.97</th>\n",
       "      <td>1</td>\n",
       "      <td>0.003956</td>\n",
       "      <td>True</td>\n",
       "    </tr>\n",
       "    <tr>\n",
       "      <th>137.254.7.169</th>\n",
       "      <td>1</td>\n",
       "      <td>0.003956</td>\n",
       "      <td>True</td>\n",
       "    </tr>\n",
       "    <tr>\n",
       "      <th>70.123.229.111</th>\n",
       "      <td>1</td>\n",
       "      <td>0.003956</td>\n",
       "      <td>True</td>\n",
       "    </tr>\n",
       "    <tr>\n",
       "      <th>174.207.5.177</th>\n",
       "      <td>1</td>\n",
       "      <td>0.003956</td>\n",
       "      <td>True</td>\n",
       "    </tr>\n",
       "    <tr>\n",
       "      <th>76.214.156.188</th>\n",
       "      <td>1</td>\n",
       "      <td>0.003956</td>\n",
       "      <td>True</td>\n",
       "    </tr>\n",
       "    <tr>\n",
       "      <th>172.58.67.186</th>\n",
       "      <td>1</td>\n",
       "      <td>0.003956</td>\n",
       "      <td>True</td>\n",
       "    </tr>\n",
       "    <tr>\n",
       "      <th>104.184.220.38</th>\n",
       "      <td>1</td>\n",
       "      <td>0.003956</td>\n",
       "      <td>True</td>\n",
       "    </tr>\n",
       "    <tr>\n",
       "      <th>37.60.189.18</th>\n",
       "      <td>1</td>\n",
       "      <td>0.003956</td>\n",
       "      <td>True</td>\n",
       "    </tr>\n",
       "    <tr>\n",
       "      <th>107.77.80.20</th>\n",
       "      <td>1</td>\n",
       "      <td>0.003956</td>\n",
       "      <td>True</td>\n",
       "    </tr>\n",
       "    <tr>\n",
       "      <th>71.42.245.250</th>\n",
       "      <td>1</td>\n",
       "      <td>0.003956</td>\n",
       "      <td>True</td>\n",
       "    </tr>\n",
       "    <tr>\n",
       "      <th>24.27.227.1</th>\n",
       "      <td>1</td>\n",
       "      <td>0.003956</td>\n",
       "      <td>True</td>\n",
       "    </tr>\n",
       "    <tr>\n",
       "      <th>174.207.12.44</th>\n",
       "      <td>1</td>\n",
       "      <td>0.003956</td>\n",
       "      <td>True</td>\n",
       "    </tr>\n",
       "    <tr>\n",
       "      <th>104.191.1.102</th>\n",
       "      <td>1</td>\n",
       "      <td>0.003956</td>\n",
       "      <td>True</td>\n",
       "    </tr>\n",
       "    <tr>\n",
       "      <th>196.52.2.49</th>\n",
       "      <td>1</td>\n",
       "      <td>0.003956</td>\n",
       "      <td>True</td>\n",
       "    </tr>\n",
       "    <tr>\n",
       "      <th>107.77.64.50</th>\n",
       "      <td>1</td>\n",
       "      <td>0.003956</td>\n",
       "      <td>True</td>\n",
       "    </tr>\n",
       "    <tr>\n",
       "      <th>107.77.100.84</th>\n",
       "      <td>1</td>\n",
       "      <td>0.003956</td>\n",
       "      <td>True</td>\n",
       "    </tr>\n",
       "    <tr>\n",
       "      <th>24.27.227.0</th>\n",
       "      <td>1</td>\n",
       "      <td>0.003956</td>\n",
       "      <td>True</td>\n",
       "    </tr>\n",
       "    <tr>\n",
       "      <th>99.203.26.93</th>\n",
       "      <td>1</td>\n",
       "      <td>0.003956</td>\n",
       "      <td>True</td>\n",
       "    </tr>\n",
       "  </tbody>\n",
       "</table>\n",
       "</div>"
      ],
      "text/plain": [
       "                 ip  %chance of IP  outlier\n",
       "99.203.26.185     2       0.007913     True\n",
       "90.85.119.75      2       0.007913     True\n",
       "166.251.112.88    2       0.007913     True\n",
       "107.77.80.82      2       0.007913     True\n",
       "98.6.222.42       2       0.007913     True\n",
       "107.77.80.57      2       0.007913     True\n",
       "107.77.100.45     2       0.007913     True\n",
       "107.77.72.112     2       0.007913     True\n",
       "99.203.26.200     2       0.007913     True\n",
       "107.77.66.96      2       0.007913     True\n",
       "192.171.117.234   2       0.007913     True\n",
       "104.129.196.183   2       0.007913     True\n",
       "99.203.155.147    2       0.007913     True\n",
       "174.207.13.44     2       0.007913     True\n",
       "76.218.41.171     2       0.007913     True\n",
       "209.205.122.182   2       0.007913     True\n",
       "174.207.0.15      2       0.007913     True\n",
       "107.77.66.47      1       0.003956     True\n",
       "107.77.64.51      1       0.003956     True\n",
       "172.58.111.172    1       0.003956     True\n",
       "64.132.225.203    1       0.003956     True\n",
       "107.77.64.80      1       0.003956     True\n",
       "107.77.100.91     1       0.003956     True\n",
       "174.207.0.177     1       0.003956     True\n",
       "99.203.154.83     1       0.003956     True\n",
       "97.77.127.220     1       0.003956     True\n",
       "99.203.154.93     1       0.003956     True\n",
       "96.27.161.213     1       0.003956     True\n",
       "196.52.2.70       1       0.003956     True\n",
       "189.146.46.149    1       0.003956     True\n",
       "209.205.122.186   1       0.003956     True\n",
       "107.77.72.97      1       0.003956     True\n",
       "137.254.7.169     1       0.003956     True\n",
       "70.123.229.111    1       0.003956     True\n",
       "174.207.5.177     1       0.003956     True\n",
       "76.214.156.188    1       0.003956     True\n",
       "172.58.67.186     1       0.003956     True\n",
       "104.184.220.38    1       0.003956     True\n",
       "37.60.189.18      1       0.003956     True\n",
       "107.77.80.20      1       0.003956     True\n",
       "71.42.245.250     1       0.003956     True\n",
       "24.27.227.1       1       0.003956     True\n",
       "174.207.12.44     1       0.003956     True\n",
       "104.191.1.102     1       0.003956     True\n",
       "196.52.2.49       1       0.003956     True\n",
       "107.77.64.50      1       0.003956     True\n",
       "107.77.100.84     1       0.003956     True\n",
       "24.27.227.0       1       0.003956     True\n",
       "99.203.26.93      1       0.003956     True"
      ]
     },
     "execution_count": 121,
     "metadata": {},
     "output_type": "execute_result"
    }
   ],
   "source": [
    "c22_ip_given_weekday[c22_ip_given_weekday.outlier == True]"
   ]
  },
  {
   "cell_type": "code",
   "execution_count": null,
   "metadata": {},
   "outputs": [],
   "source": []
  }
 ],
 "metadata": {
  "kernelspec": {
   "display_name": "Python 3",
   "language": "python",
   "name": "python3"
  },
  "language_info": {
   "codemirror_mode": {
    "name": "ipython",
    "version": 3
   },
   "file_extension": ".py",
   "mimetype": "text/x-python",
   "name": "python",
   "nbconvert_exporter": "python",
   "pygments_lexer": "ipython3",
   "version": "3.7.1"
  }
 },
 "nbformat": 4,
 "nbformat_minor": 2
}
