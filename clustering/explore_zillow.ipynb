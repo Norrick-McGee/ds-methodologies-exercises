{
 "cells": [
  {
   "cell_type": "code",
   "execution_count": 1,
   "metadata": {},
   "outputs": [],
   "source": [
    "import pandas as pd\n",
    "import seaborn as sns\n",
    "import matplotlib.pyplot as plt\n",
    "import numpy as np"
   ]
  },
  {
   "cell_type": "code",
   "execution_count": 3,
   "metadata": {},
   "outputs": [],
   "source": [
    "import acquire_zillow\n",
    "import prepare_zillow"
   ]
  },
  {
   "cell_type": "code",
   "execution_count": 4,
   "metadata": {},
   "outputs": [
    {
     "name": "stderr",
     "output_type": "stream",
     "text": [
      "/usr/local/anaconda3/lib/python3.7/site-packages/IPython/core/interactiveshell.py:3020: DtypeWarning: Columns (63) have mixed types. Specify dtype option on import or set low_memory=False.\n",
      "  interactivity=interactivity, compiler=compiler, result=result)\n"
     ]
    }
   ],
   "source": [
    "df = pd.read_csv('test.csv')"
   ]
  },
  {
   "cell_type": "code",
   "execution_count": 5,
   "metadata": {},
   "outputs": [
    {
     "data": {
      "text/plain": [
       "(167854, 68)"
      ]
     },
     "execution_count": 5,
     "metadata": {},
     "output_type": "execute_result"
    }
   ],
   "source": [
    "df.shape"
   ]
  },
  {
   "cell_type": "code",
   "execution_count": 6,
   "metadata": {},
   "outputs": [],
   "source": [
    "df = prepare_zillow.prep_zillow(df)\n",
    "df = df.drop_duplicates(subset='parcelid')\n",
    "df.drop('Unnamed: 0',axis=1,inplace = True)"
   ]
  },
  {
   "cell_type": "code",
   "execution_count": 7,
   "metadata": {},
   "outputs": [
    {
     "data": {
      "text/plain": [
       "(157174, 68)"
      ]
     },
     "execution_count": 7,
     "metadata": {},
     "output_type": "execute_result"
    }
   ],
   "source": [
    "df.shape"
   ]
  },
  {
   "cell_type": "markdown",
   "metadata": {},
   "source": [
    "### Will be replaced with proper imputation in prep"
   ]
  },
  {
   "cell_type": "code",
   "execution_count": 11,
   "metadata": {},
   "outputs": [],
   "source": [
    "df = df.replace(np.nan,0)"
   ]
  },
  {
   "cell_type": "code",
   "execution_count": 20,
   "metadata": {},
   "outputs": [],
   "source": [
    "df.drop('Unnamed: 0',axis=1,inplace = True)"
   ]
  },
  {
   "cell_type": "code",
   "execution_count": 22,
   "metadata": {},
   "outputs": [
    {
     "name": "stdout",
     "output_type": "stream",
     "text": [
      "<class 'pandas.core.frame.DataFrame'>\n",
      "Int64Index: 157174 entries, 0 to 167853\n",
      "Data columns (total 67 columns):\n",
      "parcelid                        157174 non-null int64\n",
      "airconditioningtypeid           157174 non-null float64\n",
      "architecturalstyletypeid        157174 non-null float64\n",
      "basementsqft                    157174 non-null float64\n",
      "bathroomcnt                     157174 non-null float64\n",
      "bedroomcnt                      157174 non-null float64\n",
      "buildingclasstypeid             157174 non-null float64\n",
      "buildingqualitytypeid           157174 non-null float64\n",
      "calculatedbathnbr               157174 non-null float64\n",
      "decktypeid                      157174 non-null float64\n",
      "finishedfloor1squarefeet        157174 non-null float64\n",
      "calculatedfinishedsquarefeet    157174 non-null float64\n",
      "finishedsquarefeet12            157174 non-null float64\n",
      "finishedsquarefeet13            157174 non-null float64\n",
      "finishedsquarefeet15            157174 non-null float64\n",
      "finishedsquarefeet50            157174 non-null float64\n",
      "finishedsquarefeet6             157174 non-null float64\n",
      "fips                            157174 non-null float64\n",
      "fireplacecnt                    157174 non-null float64\n",
      "fullbathcnt                     157174 non-null float64\n",
      "garagecarcnt                    157174 non-null float64\n",
      "garagetotalsqft                 157174 non-null float64\n",
      "hashottuborspa                  157174 non-null float64\n",
      "heatingorsystemtypeid           157174 non-null float64\n",
      "latitude                        157174 non-null float64\n",
      "longitude                       157174 non-null float64\n",
      "lotsizesquarefeet               157174 non-null float64\n",
      "poolcnt                         157174 non-null float64\n",
      "poolsizesum                     157174 non-null float64\n",
      "pooltypeid10                    157174 non-null float64\n",
      "pooltypeid2                     157174 non-null float64\n",
      "pooltypeid7                     157174 non-null float64\n",
      "propertycountylandusecode       157174 non-null object\n",
      "propertylandusetypeid           157174 non-null float64\n",
      "propertyzoningdesc              157174 non-null object\n",
      "rawcensustractandblock          157174 non-null float64\n",
      "regionidcity                    157174 non-null float64\n",
      "regionidcounty                  157174 non-null float64\n",
      "regionidneighborhood            157174 non-null float64\n",
      "regionidzip                     157174 non-null float64\n",
      "roomcnt                         157174 non-null float64\n",
      "storytypeid                     157174 non-null float64\n",
      "threequarterbathnbr             157174 non-null float64\n",
      "typeconstructiontypeid          157174 non-null float64\n",
      "unitcnt                         157174 non-null float64\n",
      "yardbuildingsqft17              157174 non-null float64\n",
      "yardbuildingsqft26              157174 non-null float64\n",
      "yearbuilt                       157174 non-null float64\n",
      "numberofstories                 157174 non-null float64\n",
      "fireplaceflag                   157174 non-null float64\n",
      "structuretaxvaluedollarcnt      157174 non-null float64\n",
      "taxvaluedollarcnt               157174 non-null float64\n",
      "assessmentyear                  157174 non-null float64\n",
      "landtaxvaluedollarcnt           157174 non-null float64\n",
      "taxamount                       157174 non-null float64\n",
      "taxdelinquencyflag              157174 non-null object\n",
      "taxdelinquencyyear              157174 non-null float64\n",
      "censustractandblock             157174 non-null float64\n",
      "logerror                        157174 non-null float64\n",
      "transactiondate                 157174 non-null object\n",
      "airconditioningdesc             157174 non-null object\n",
      "architecturalstyledesc          157174 non-null object\n",
      "buildingclassdesc               157174 non-null int64\n",
      "heatingorsystemdesc             157174 non-null object\n",
      "propertylandusedesc             157174 non-null object\n",
      "storydesc                       157174 non-null object\n",
      "typeconstructiondesc            157174 non-null object\n",
      "dtypes: float64(55), int64(2), object(10)\n",
      "memory usage: 86.5+ MB\n"
     ]
    }
   ],
   "source": [
    "df.info()"
   ]
  },
  {
   "cell_type": "code",
   "execution_count": 23,
   "metadata": {},
   "outputs": [
    {
     "data": {
      "text/plain": [
       "['parcelid',\n",
       " 'airconditioningtypeid',\n",
       " 'architecturalstyletypeid',\n",
       " 'basementsqft',\n",
       " 'bathroomcnt',\n",
       " 'bedroomcnt',\n",
       " 'buildingclasstypeid',\n",
       " 'buildingqualitytypeid',\n",
       " 'calculatedbathnbr',\n",
       " 'decktypeid',\n",
       " 'finishedfloor1squarefeet',\n",
       " 'calculatedfinishedsquarefeet',\n",
       " 'finishedsquarefeet12',\n",
       " 'finishedsquarefeet13',\n",
       " 'finishedsquarefeet15',\n",
       " 'finishedsquarefeet50',\n",
       " 'finishedsquarefeet6',\n",
       " 'fips',\n",
       " 'fireplacecnt',\n",
       " 'fullbathcnt',\n",
       " 'garagecarcnt',\n",
       " 'garagetotalsqft',\n",
       " 'hashottuborspa',\n",
       " 'heatingorsystemtypeid',\n",
       " 'latitude',\n",
       " 'longitude',\n",
       " 'lotsizesquarefeet',\n",
       " 'poolcnt',\n",
       " 'poolsizesum',\n",
       " 'pooltypeid10',\n",
       " 'pooltypeid2',\n",
       " 'pooltypeid7',\n",
       " 'propertycountylandusecode',\n",
       " 'propertylandusetypeid',\n",
       " 'propertyzoningdesc',\n",
       " 'rawcensustractandblock',\n",
       " 'regionidcity',\n",
       " 'regionidcounty',\n",
       " 'regionidneighborhood',\n",
       " 'regionidzip',\n",
       " 'roomcnt',\n",
       " 'storytypeid',\n",
       " 'threequarterbathnbr',\n",
       " 'typeconstructiontypeid',\n",
       " 'unitcnt',\n",
       " 'yardbuildingsqft17',\n",
       " 'yardbuildingsqft26',\n",
       " 'yearbuilt',\n",
       " 'numberofstories',\n",
       " 'fireplaceflag',\n",
       " 'structuretaxvaluedollarcnt',\n",
       " 'taxvaluedollarcnt',\n",
       " 'assessmentyear',\n",
       " 'landtaxvaluedollarcnt',\n",
       " 'taxamount',\n",
       " 'taxdelinquencyflag',\n",
       " 'taxdelinquencyyear',\n",
       " 'censustractandblock',\n",
       " 'logerror',\n",
       " 'transactiondate',\n",
       " 'airconditioningdesc',\n",
       " 'architecturalstyledesc',\n",
       " 'buildingclassdesc',\n",
       " 'heatingorsystemdesc',\n",
       " 'propertylandusedesc',\n",
       " 'storydesc',\n",
       " 'typeconstructiondesc']"
      ]
     },
     "execution_count": 23,
     "metadata": {},
     "output_type": "execute_result"
    }
   ],
   "source": [
    "list(df.columns)"
   ]
  },
  {
   "cell_type": "code",
   "execution_count": 25,
   "metadata": {},
   "outputs": [],
   "source": [
    "dfo = df.copy()"
   ]
  },
  {
   "cell_type": "code",
   "execution_count": 26,
   "metadata": {},
   "outputs": [],
   "source": [
    "df = df[['parcelid',\n",
    " 'airconditioningtypeid',\n",
    " 'architecturalstyletypeid',\n",
    " 'basementsqft',\n",
    " 'bathroomcnt',\n",
    " 'bedroomcnt',\n",
    " 'buildingclasstypeid',\n",
    " 'buildingqualitytypeid',\n",
    " 'calculatedbathnbr',\n",
    " 'decktypeid',\n",
    " 'finishedfloor1squarefeet',\n",
    " 'calculatedfinishedsquarefeet',\n",
    " 'fips',\n",
    " 'fireplacecnt',\n",
    " 'fullbathcnt',\n",
    " 'garagetotalsqft',\n",
    " 'latitude',\n",
    " 'longitude',\n",
    " 'lotsizesquarefeet',\n",
    " 'logerror']]"
   ]
  },
  {
   "cell_type": "code",
   "execution_count": null,
   "metadata": {},
   "outputs": [],
   "source": [
    "sns.pairplot(df)"
   ]
  },
  {
   "cell_type": "code",
   "execution_count": null,
   "metadata": {},
   "outputs": [],
   "source": []
  }
 ],
 "metadata": {
  "kernelspec": {
   "display_name": "Python 3",
   "language": "python",
   "name": "python3"
  },
  "language_info": {
   "codemirror_mode": {
    "name": "ipython",
    "version": 3
   },
   "file_extension": ".py",
   "mimetype": "text/x-python",
   "name": "python",
   "nbconvert_exporter": "python",
   "pygments_lexer": "ipython3",
   "version": "3.7.1"
  }
 },
 "nbformat": 4,
 "nbformat_minor": 2
}
