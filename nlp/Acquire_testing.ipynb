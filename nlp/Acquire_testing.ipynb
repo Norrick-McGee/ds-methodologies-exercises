{
 "cells": [
  {
   "cell_type": "code",
   "execution_count": 1,
   "metadata": {},
   "outputs": [],
   "source": [
    "import acquire"
   ]
  },
  {
   "cell_type": "code",
   "execution_count": null,
   "metadata": {},
   "outputs": [],
   "source": []
  },
  {
   "cell_type": "code",
   "execution_count": 2,
   "metadata": {},
   "outputs": [
    {
     "name": "stderr",
     "output_type": "stream",
     "text": [
      "/Users/snorks/dev/projects/codeup/ds-method-exercises/NLP/acquire.py:15: UserWarning: No parser was explicitly specified, so I'm using the best available HTML parser for this system (\"lxml\"). This usually isn't a problem, but if you run this code on another system, or in a different virtual environment, it may use a different parser and behave differently.\n",
      "\n",
      "The code that caused this warning is on line 15 of the file /Users/snorks/dev/projects/codeup/ds-method-exercises/NLP/acquire.py. To get rid of this warning, pass the additional argument 'features=\"lxml\"' to the BeautifulSoup constructor.\n",
      "\n",
      "  return BeautifulSoup(response.text)\n",
      "/Users/snorks/dev/projects/codeup/ds-method-exercises/NLP/acquire.py:11: UserWarning: No parser was explicitly specified, so I'm using the best available HTML parser for this system (\"lxml\"). This usually isn't a problem, but if you run this code on another system, or in a different virtual environment, it may use a different parser and behave differently.\n",
      "\n",
      "The code that caused this warning is on line 11 of the file /Users/snorks/dev/projects/codeup/ds-method-exercises/NLP/acquire.py. To get rid of this warning, pass the additional argument 'features=\"lxml\"' to the BeautifulSoup constructor.\n",
      "\n",
      "  return BeautifulSoup(response.text)\n"
     ]
    }
   ],
   "source": [
    "a,b = acquire.acquire_articles(True)"
   ]
  },
  {
   "cell_type": "code",
   "execution_count": 3,
   "metadata": {},
   "outputs": [
    {
     "data": {
      "text/html": [
       "<div>\n",
       "<style scoped>\n",
       "    .dataframe tbody tr th:only-of-type {\n",
       "        vertical-align: middle;\n",
       "    }\n",
       "\n",
       "    .dataframe tbody tr th {\n",
       "        vertical-align: top;\n",
       "    }\n",
       "\n",
       "    .dataframe thead th {\n",
       "        text-align: right;\n",
       "    }\n",
       "</style>\n",
       "<table border=\"1\" class=\"dataframe\">\n",
       "  <thead>\n",
       "    <tr style=\"text-align: right;\">\n",
       "      <th></th>\n",
       "      <th>content</th>\n",
       "      <th>title</th>\n",
       "    </tr>\n",
       "  </thead>\n",
       "  <tbody>\n",
       "    <tr>\n",
       "      <th>0</th>\n",
       "      <td>\\n \\n\\nBy Yumi Jeon \\n\\n\\t\\t\\t Posted Septembe...</td>\n",
       "      <td>Codeup’s Data Science Career Accelerator is He...</td>\n",
       "    </tr>\n",
       "    <tr>\n",
       "      <th>1</th>\n",
       "      <td>\\n \\n\\nBy Yumi Jeon \\n\\n\\t\\t\\t Posted October ...</td>\n",
       "      <td>Data Science Myths - Codeup</td>\n",
       "    </tr>\n",
       "    <tr>\n",
       "      <th>2</th>\n",
       "      <td>\\n \\n\\nBy Yumi Jeon \\n\\n\\t\\t\\t Posted October ...</td>\n",
       "      <td>Data Science VS Data Analytics: What’s The Dif...</td>\n",
       "    </tr>\n",
       "    <tr>\n",
       "      <th>3</th>\n",
       "      <td>\\n\\nBy Yumi Jeon \\n\\n\\t\\t\\t Posted August 14, ...</td>\n",
       "      <td>10 Tips to Crush It at the SA Tech Job Fair - ...</td>\n",
       "    </tr>\n",
       "    <tr>\n",
       "      <th>4</th>\n",
       "      <td>\\n\\nBy Yumi Jeon \\n\\n\\t\\t\\t Posted August 14, ...</td>\n",
       "      <td>Competitor Bootcamps Are Closing. Is the Model...</td>\n",
       "    </tr>\n",
       "  </tbody>\n",
       "</table>\n",
       "</div>"
      ],
      "text/plain": [
       "                                             content  \\\n",
       "0  \\n \\n\\nBy Yumi Jeon \\n\\n\\t\\t\\t Posted Septembe...   \n",
       "1  \\n \\n\\nBy Yumi Jeon \\n\\n\\t\\t\\t Posted October ...   \n",
       "2  \\n \\n\\nBy Yumi Jeon \\n\\n\\t\\t\\t Posted October ...   \n",
       "3  \\n\\nBy Yumi Jeon \\n\\n\\t\\t\\t Posted August 14, ...   \n",
       "4  \\n\\nBy Yumi Jeon \\n\\n\\t\\t\\t Posted August 14, ...   \n",
       "\n",
       "                                               title  \n",
       "0  Codeup’s Data Science Career Accelerator is He...  \n",
       "1                        Data Science Myths - Codeup  \n",
       "2  Data Science VS Data Analytics: What’s The Dif...  \n",
       "3  10 Tips to Crush It at the SA Tech Job Fair - ...  \n",
       "4  Competitor Bootcamps Are Closing. Is the Model...  "
      ]
     },
     "execution_count": 3,
     "metadata": {},
     "output_type": "execute_result"
    }
   ],
   "source": [
    "b"
   ]
  },
  {
   "cell_type": "code",
   "execution_count": null,
   "metadata": {},
   "outputs": [],
   "source": []
  }
 ],
 "metadata": {
  "kernelspec": {
   "display_name": "Python 3",
   "language": "python",
   "name": "python3"
  },
  "language_info": {
   "codemirror_mode": {
    "name": "ipython",
    "version": 3
   },
   "file_extension": ".py",
   "mimetype": "text/x-python",
   "name": "python",
   "nbconvert_exporter": "python",
   "pygments_lexer": "ipython3",
   "version": "3.7.1"
  }
 },
 "nbformat": 4,
 "nbformat_minor": 2
}
