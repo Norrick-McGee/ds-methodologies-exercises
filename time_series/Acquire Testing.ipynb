{
 "cells": [
  {
   "cell_type": "code",
   "execution_count": 15,
   "metadata": {},
   "outputs": [],
   "source": [
    "import acquire as acq"
   ]
  },
  {
   "cell_type": "code",
   "execution_count": 6,
   "metadata": {},
   "outputs": [],
   "source": [
    "df = acq.acquire_sales()"
   ]
  },
  {
   "cell_type": "code",
   "execution_count": null,
   "metadata": {},
   "outputs": [],
   "source": [
    "sales, items, stores = acq.load_csvs()"
   ]
  },
  {
   "cell_type": "code",
   "execution_count": null,
   "metadata": {},
   "outputs": [],
   "source": [
    "sales.info()"
   ]
  },
  {
   "cell_type": "code",
   "execution_count": null,
   "metadata": {},
   "outputs": [],
   "source": [
    "acq.merge_dfs(*acq.load_csvs())"
   ]
  },
  {
   "cell_type": "code",
   "execution_count": null,
   "metadata": {},
   "outputs": [],
   "source": [
    "import pandas as pd"
   ]
  },
  {
   "cell_type": "code",
   "execution_count": null,
   "metadata": {},
   "outputs": [],
   "source": [
    "sales = sales.rename({'store':\"store_id\",'item':'item_id'},axis=1)\n",
    "merged = pd.merge(sales,items)\n",
    "merged = pd.merge(merged,stores)"
   ]
  },
  {
   "cell_type": "code",
   "execution_count": null,
   "metadata": {},
   "outputs": [],
   "source": [
    "import os\n",
    "os.('pwd')"
   ]
  },
  {
   "cell_type": "code",
   "execution_count": null,
   "metadata": {},
   "outputs": [],
   "source": [
    "os.path.isfile('./csvs/sales.csv')"
   ]
  },
  {
   "cell_type": "code",
   "execution_count": null,
   "metadata": {},
   "outputs": [],
   "source": [
    "(os.path.isfile('./csvs/sales.csv') and os.path.isfile('./csvs/item.csv') and os.path.isfile('./csvs/stores.csv')"
   ]
  },
  {
   "cell_type": "code",
   "execution_count": 18,
   "metadata": {},
   "outputs": [
    {
     "name": "stdout",
     "output_type": "stream",
     "text": [
      "generating multiple large csvs, please be patient\n",
      "Downloading list of items\n",
      "Complete\n",
      "Downloading sales, this may take some time\n",
      "total pages to download: 183\n",
      "Pages 1 - 10 loaded successfully\n",
      "Pages 11 - 20 loaded successfully\n",
      "Pages 21 - 30 loaded successfully\n",
      "Pages 31 - 40 loaded successfully\n",
      "Pages 41 - 50 loaded successfully\n",
      "Pages 51 - 60 loaded successfully\n",
      "Pages 61 - 70 loaded successfully\n",
      "Pages 71 - 80 loaded successfully\n",
      "Pages 81 - 90 loaded successfully\n",
      "Pages 91 - 100 loaded successfully\n",
      "Pages 101 - 110 loaded successfully\n",
      "Pages 111 - 120 loaded successfully\n",
      "Pages 121 - 130 loaded successfully\n",
      "Pages 131 - 140 loaded successfully\n",
      "Pages 141 - 150 loaded successfully\n",
      "Pages 151 - 160 loaded successfully\n",
      "Pages 161 - 170 loaded successfully\n",
      "Pages 171 - 180 loaded successfully\n",
      "No next page, acquisition complete\n",
      "183 pages loaded successfully\n",
      "merging pages into DataFrame\n",
      "Complete\n",
      "Downloading List of stores\n",
      "max page: 1\n",
      "next page: None\n",
      "Complete\n",
      "Converting to CSVs\n"
     ]
    }
   ],
   "source": [
    "df = acq.acquire_sales(refresh_data=True)"
   ]
  },
  {
   "cell_type": "code",
   "execution_count": null,
   "metadata": {},
   "outputs": [],
   "source": []
  }
 ],
 "metadata": {
  "kernelspec": {
   "display_name": "Python 3",
   "language": "python",
   "name": "python3"
  },
  "language_info": {
   "codemirror_mode": {
    "name": "ipython",
    "version": 3
   },
   "file_extension": ".py",
   "mimetype": "text/x-python",
   "name": "python",
   "nbconvert_exporter": "python",
   "pygments_lexer": "ipython3",
   "version": "3.7.1"
  }
 },
 "nbformat": 4,
 "nbformat_minor": 2
}
